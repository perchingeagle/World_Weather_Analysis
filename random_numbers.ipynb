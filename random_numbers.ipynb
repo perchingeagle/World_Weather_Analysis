{
 "cells": [
  {
   "cell_type": "code",
   "execution_count": 17,
   "id": "0348ba36",
   "metadata": {},
   "outputs": [],
   "source": [
    "# Import the random module.\n",
    "import random\n"
   ]
  },
  {
   "cell_type": "code",
   "execution_count": 18,
   "id": "2e48c42c",
   "metadata": {},
   "outputs": [
    {
     "data": {
      "text/plain": [
       "79.48931361991893"
      ]
     },
     "execution_count": 18,
     "metadata": {},
     "output_type": "execute_result"
    }
   ],
   "source": [
    "random.randint(-90, 90)\n",
    "\n",
    "random.random()\n",
    "\n",
    "random_number = random.randint(-90, 89) + random.random()\n",
    "random_number\n",
    "\n",
    "x = 1\n",
    "latitudes = []\n",
    "while x < 11:\n",
    "    random_lat = random.randint(-90, 89) + random.random()\n",
    "    latitudes.append(random_lat)\n",
    "    x += 1\n",
    "    \n",
    "latitudes\n",
    "\n",
    "random.randrange(-90, 90, step=1)\n",
    "\n",
    "random.randrange(-90, 90, step=3)\n",
    "\n",
    "random.uniform(-90, 90)"
   ]
  },
  {
   "cell_type": "code",
   "execution_count": 19,
   "id": "ee3691b7",
   "metadata": {},
   "outputs": [],
   "source": [
    "# Import the NumPy module.\n",
    "import numpy as np\n",
    "\n",
    "# Import timeit.\n",
    "import timeit"
   ]
  },
  {
   "cell_type": "code",
   "execution_count": 14,
   "id": "302da8a8",
   "metadata": {},
   "outputs": [
    {
     "data": {
      "text/plain": [
       "array([ 82.94509247,  52.28940295, -47.40245567,  53.88483622,\n",
       "        49.74561799,  23.51624577, -74.67943749, -29.35569275,\n",
       "        -4.8250381 , -40.98556826,  16.36793508,  29.30725897,\n",
       "       -31.35043485, -88.153539  ,  57.92870595, -89.14969654,\n",
       "       -76.45945283,  67.86178887, -19.27235721,  49.09729714,\n",
       "        44.05274011,  60.23451576, -41.06686664, -54.2301847 ,\n",
       "       -14.8006467 ,  77.87497151, -53.39132558, -76.60915014,\n",
       "       -57.64960733,  61.45396564,   3.33321748,  -3.59152362,\n",
       "       -69.78936482,  86.2721696 , -75.36276236, -61.27697355,\n",
       "        81.83264357,  35.18451592,  17.58013937,  86.00707116,\n",
       "         4.17529909,   7.40789768, -50.33972718,  16.02757546,\n",
       "       -71.37502248,  -9.76181961,  19.67975168, -68.1029625 ,\n",
       "       -63.76008407, -30.71395817])"
      ]
     },
     "execution_count": 14,
     "metadata": {},
     "output_type": "execute_result"
    }
   ],
   "source": [
    "np.random.uniform(-90.000, 90.000)\n",
    "\n",
    "np.random.uniform(-90.000, 90.000, size=50)"
   ]
  },
  {
   "cell_type": "code",
   "execution_count": 16,
   "id": "36c632af",
   "metadata": {},
   "outputs": [
    {
     "name": "stdout",
     "output_type": "stream",
     "text": [
      "15.1 µs ± 750 ns per loop (mean ± std. dev. of 7 runs, 100000 loops each)\n"
     ]
    }
   ],
   "source": [
    "%timeit np.random.uniform(-90.000, 90.000, size=1500)"
   ]
  },
  {
   "cell_type": "code",
   "execution_count": 20,
   "id": "70508ffc",
   "metadata": {},
   "outputs": [
    {
     "name": "stdout",
     "output_type": "stream",
     "text": [
      "1.47 ms ± 19.4 µs per loop (mean ± std. dev. of 7 runs, 1000 loops each)\n"
     ]
    }
   ],
   "source": [
    "def latitudes(size):\n",
    "    latitudes = []\n",
    "    x = 0\n",
    "    while x < (size):\n",
    "        random_lat = random.randint(-90, 90) + random.random()\n",
    "        latitudes.append(random_lat)\n",
    "        x += 1\n",
    "    return latitudes\n",
    "# Call the function with 1500.\n",
    "%timeit latitudes(1500)"
   ]
  },
  {
   "cell_type": "code",
   "execution_count": 23,
   "id": "86c5d73c",
   "metadata": {},
   "outputs": [
    {
     "name": "stdout",
     "output_type": "stream",
     "text": [
      "1.4 ms ± 58.8 µs per loop (mean ± std. dev. of 7 runs, 1000 loops each)\n"
     ]
    }
   ],
   "source": [
    "def latitudes_for(size):\n",
    "    latitudes = []\n",
    "    for _ in range(0, size):\n",
    "        random_lat = random.randint(-90, 90) + random.random()\n",
    "        latitudes.append(random_lat)\n",
    "    return latitudes\n",
    "\n",
    "%timeit latitudes_for(1500)"
   ]
  },
  {
   "cell_type": "code",
   "execution_count": 24,
   "id": "2073d4c8",
   "metadata": {},
   "outputs": [
    {
     "name": "stdout",
     "output_type": "stream",
     "text": [
      "1.33 ms ± 23 µs per loop (mean ± std. dev. of 7 runs, 1000 loops each)\n"
     ]
    }
   ],
   "source": [
    "\n",
    "latitudes_lambda = lambda size: [random.randint(-90, 90) + random.random() for _ in range(0, size)] \n",
    "\n",
    "%timeit latitudes_lambda(1500)"
   ]
  }
 ],
 "metadata": {
  "kernelspec": {
   "display_name": "Python 3",
   "language": "python",
   "name": "python3"
  },
  "language_info": {
   "codemirror_mode": {
    "name": "ipython",
    "version": 3
   },
   "file_extension": ".py",
   "mimetype": "text/x-python",
   "name": "python",
   "nbconvert_exporter": "python",
   "pygments_lexer": "ipython3",
   "version": "3.8.8"
  }
 },
 "nbformat": 4,
 "nbformat_minor": 5
}
